{
  "nbformat": 4,
  "nbformat_minor": 0,
  "metadata": {
    "colab": {
      "provenance": []
    },
    "kernelspec": {
      "name": "python3",
      "display_name": "Python 3"
    },
    "language_info": {
      "name": "python"
    }
  },
  "cells": [
    {
      "cell_type": "code",
      "source": [
        "from google.colab import drive\n",
        "drive.mount('/content/drive')"
      ],
      "metadata": {
        "colab": {
          "base_uri": "https://localhost:8080/"
        },
        "id": "Cc1b_xZXc_5E",
        "outputId": "dec6cf15-08ed-4d12-d310-6573612491f3"
      },
      "execution_count": null,
      "outputs": [
        {
          "output_type": "stream",
          "name": "stdout",
          "text": [
            "Drive already mounted at /content/drive; to attempt to forcibly remount, call drive.mount(\"/content/drive\", force_remount=True).\n"
          ]
        }
      ]
    },
    {
      "cell_type": "code",
      "source": [
        "import numpy as np\n",
        "import pandas as pd\n",
        "from sklearn.neural_network import MLPRegressor\n",
        "from sklearn.model_selection import train_test_split\n",
        "from sklearn.metrics import mean_absolute_error\n",
        "import datetime"
      ],
      "metadata": {
        "id": "z97c0ACQc19t"
      },
      "execution_count": null,
      "outputs": []
    },
    {
      "cell_type": "markdown",
      "source": [
        "Data yang lengkap pada file personel:\n",
        "1. Personel 2\n",
        "2. POW 4\n",
        "\n",
        "Data yang lengkap pada file equipment:\n",
        "1. aircraft 2\n",
        "2. helicopter 3\n",
        "3. tank 4\n",
        "4. apc 5\n",
        "5. field artilery 6\n",
        "6. multiple rocked launcher 7\n",
        "7. drone 10\n",
        "8. naval ship 11\n",
        "9. anti-aircraft warfare 12\n"
      ],
      "metadata": {
        "id": "jDpGwwALnJj4"
      }
    },
    {
      "cell_type": "code",
      "source": [
        "data_equipment = pd.read_csv('/content/drive/MyDrive/UAS Kecerdasan Buatan/russia_losses_equipment.csv')\n",
        "data_personel = pd.read_csv('/content/drive/MyDrive/UAS Kecerdasan Buatan/russia_losses_personnel.csv')\n",
        "\n",
        "# ambil data yang kolomnya lengkap saja\n",
        "data_personel = data_personel.iloc[:, [2,4]]\n",
        "data_equipment = data_equipment.iloc[:, [2,3,4,5,6,7,10,11,12]]"
      ],
      "metadata": {
        "id": "ICls6euYjhAK"
      },
      "execution_count": null,
      "outputs": []
    },
    {
      "cell_type": "code",
      "source": [
        "# gabungkan data personel dan data equipment\n",
        "data_gabungan = pd.concat([data_personel, data_equipment], axis=1)\n",
        "\n",
        "# pisahkan data untuk russia dan ukraina\n",
        "data_ukraina = data_gabungan.iloc[::2, :]\n",
        "data_russia = data_gabungan.iloc[1::2, :]"
      ],
      "metadata": {
        "id": "MGcFpyyao1f9"
      },
      "execution_count": null,
      "outputs": []
    },
    {
      "cell_type": "code",
      "source": [
        "# Pisahkan data menjadi data input dan data target. Target output adalah data untuk hari keesokan harinya\n",
        "data_ukraina_input = data_ukraina.iloc[:-1, :]\n",
        "data_ukraina_target = data_ukraina.iloc[1:, :]\n",
        "data_russia_input = data_russia.iloc[:-1, :]\n",
        "data_russia_target = data_russia.iloc[1:, :]"
      ],
      "metadata": {
        "id": "zWJzWid3qICr"
      },
      "execution_count": null,
      "outputs": []
    },
    {
      "cell_type": "code",
      "source": [
        "# Pisahkan menjadi data training dan data testing\n",
        "train_ukraina_input, test_ukraina_input, train_ukraina_target, test_ukraina_target = train_test_split(data_ukraina_input, data_ukraina_target, train_size=0.8)\n",
        "train_russia_input, test_russia_input, train_russia_target, test_russia_target = train_test_split(data_russia_input, data_russia_target, train_size=0.8)"
      ],
      "metadata": {
        "id": "-SpOJHzHpFvl"
      },
      "execution_count": null,
      "outputs": []
    },
    {
      "cell_type": "code",
      "source": [
        "# model ukraina\n",
        "nn1 = MLPRegressor(hidden_layer_sizes=(20, 20, 20), solver='adam', max_iter=500, verbose=False)\n",
        "model_ukraina = []\n",
        "for i in range(11):\n",
        "  model_ukraina.append(nn1.fit(train_ukraina_input.iloc[:, i].to_numpy().reshape(-1, 1), train_ukraina_target.iloc[:, i]))"
      ],
      "metadata": {
        "id": "_n1AjgdnXc1P"
      },
      "execution_count": null,
      "outputs": []
    },
    {
      "cell_type": "code",
      "source": [
        "# model russia\n",
        "nn2 = MLPRegressor(hidden_layer_sizes=(20, 20, 20), solver='adam', max_iter=500, verbose=False)\n",
        "model_russia = []\n",
        "for i in range(11):\n",
        "  model_russia.append(nn2.fit(train_russia_input.iloc[:, i].to_numpy().reshape(-1, 1), train_russia_target.iloc[:, i]))"
      ],
      "metadata": {
        "id": "dN1ukYv9clOM"
      },
      "execution_count": null,
      "outputs": []
    },
    {
      "cell_type": "code",
      "source": [
        "# means absolute error ukraina\n",
        "mae_train_ukraina = []\n",
        "mae_test_ukraina = []\n",
        "for i in range(11):\n",
        "  mae_train_ukraina.append(mean_absolute_error(model_ukraina[i].predict(train_ukraina_input.iloc[:, i].to_numpy().reshape(-1, 1)), train_ukraina_target.iloc[:, i]))\n",
        "  mae_test_ukraina.append(mean_absolute_error(model_ukraina[i].predict(test_ukraina_input.iloc[:, i].to_numpy().reshape(-1, 1)), test_ukraina_target.iloc[:, i]))\n",
        "\n",
        "print('Mean Absolute Error data training Ukraina:')\n",
        "print(mae_train_ukraina)\n",
        "print('Mean Absolute Error data testing Ukraina:')\n",
        "print(mae_test_ukraina)"
      ],
      "metadata": {
        "id": "lMFgJrmEJQzZ"
      },
      "execution_count": null,
      "outputs": []
    },
    {
      "cell_type": "code",
      "source": [
        "# means absolute error russia\n",
        "mae_train_russia = []\n",
        "mae_test_russia = []\n",
        "for i in range(11):\n",
        "  mae_train_russia.append(mean_absolute_error(model_russia[i].predict(train_russia_input.iloc[:, i].to_numpy().reshape(-1, 1)), train_russia_target.iloc[:, i]))\n",
        "  mae_test_russia.append(mean_absolute_error(model_russia[i].predict(test_russia_input.iloc[:, i].to_numpy().reshape(-1, 1)), test_russia_target.iloc[:, i]))\n",
        "\n",
        "print('Mean Absolute Error data training Russia:')\n",
        "print(mae_train_russia)\n",
        "print('Mean Absolute Error data testing Russia:')\n",
        "print(mae_test_russia)"
      ],
      "metadata": {
        "id": "Cfp1FXmgKMJJ"
      },
      "execution_count": null,
      "outputs": []
    },
    {
      "cell_type": "code",
      "source": [
        "# prediksi data hari ke-terakhir + 1\n",
        "score_ukraina = np.array([])\n",
        "for i in range(11):\n",
        "  score_ukraina = np.append(score_ukraina, model_ukraina[i].predict(data_ukraina_target.iloc[-1, i].reshape(-1, 1)))\n",
        "\n",
        "score_russia = np.array([])\n",
        "for i in range(11):\n",
        "  score_russia = np.append(score_russia, model_russia[i].predict(data_russia_target.iloc[-1, i].reshape(-1, 1)))\n",
        "\n",
        "print('index,', 'skor ukraina,', 'skor russia')\n",
        "\n",
        "# cek jika perbedaan skor salah satu pihak > 1 juta\n",
        "index = 1\n",
        "while max(score_ukraina.sum(), score_russia.sum()) - min(score_ukraina.sum(), score_russia.sum()) < 1000000:\n",
        "  print(index, round(score_ukraina.sum()), round(score_russia.sum()))\n",
        "  index = index + 1\n",
        "  score_ukraina_temp = np.array([])\n",
        "  score_russia_temp = np.array([])\n",
        "  for i in range(11):\n",
        "    score_ukraina_temp = np.append(score_ukraina_temp, model_ukraina[i].predict(score_ukraina[i].reshape(-1, 1)))\n",
        "    score_russia_temp = np.append(score_russia_temp, model_russia[i].predict(score_russia[i].reshape(-1, 1)))\n",
        "  score_ukraina = score_ukraina_temp\n",
        "  score_russia = score_russia_temp\n",
        "\n",
        "print(index, round(score_ukraina.sum()), round(score_russia.sum()))\n",
        "\n",
        "# print nama pemenang\n",
        "if max(score_ukraina.sum(), score_russia.sum()) == score_ukraina.sum():\n",
        "  print('Pemenang = Russia')\n",
        "else:\n",
        "  print('Pemenang = Ukraina')\n",
        "\n",
        "# print skor akhir:\n",
        "print('Skor Akhir')\n",
        "print('Ukraina: ', round(score_ukraina.sum()))\n",
        "print('Russia: ', round(score_russia.sum()))"
      ],
      "metadata": {
        "id": "RecZDOSJWTCT"
      },
      "execution_count": null,
      "outputs": []
    },
    {
      "cell_type": "code",
      "source": [
        "# ambil tanggal terakhir pada data\n",
        "tanggal_akhir_data_str = pd.read_csv('/content/drive/MyDrive/UAS Kecerdasan Buatan/russia_losses_equipment.csv').iloc[-1:, 0].to_string(index=False)\n",
        "# masukkan ke object datetime\n",
        "tanggal_akhir_data = datetime.datetime.strptime(tanggal_akhir_data_str, '%Y-%m-%d')\n",
        "# tambahkan tanggal akhir data dengan jumlah data yang diprediksi\n",
        "tanggal_akhir_perang = tanggal_akhir_data + datetime.timedelta(days=index)\n",
        "# print tanggal akhir perang\n",
        "print('Tanggal akhir perang: ', tanggal_akhir_perang.strftime('%Y-%m-%d'))"
      ],
      "metadata": {
        "id": "ce2AmQWuwYDb"
      },
      "execution_count": null,
      "outputs": []
    }
  ]
}